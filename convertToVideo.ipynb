{
 "cells": [
  {
   "cell_type": "code",
   "execution_count": 1,
   "id": "d2691030",
   "metadata": {},
   "outputs": [],
   "source": [
    "import cv2\n",
    "import numpy\n",
    "import os\n",
    "from os.path import isfile, join"
   ]
  },
  {
   "cell_type": "code",
   "execution_count": 10,
   "id": "858cb619",
   "metadata": {},
   "outputs": [],
   "source": [
    "#Librería opencv\n",
    "import cv2\n",
    "import glob"
   ]
  },
  {
   "cell_type": "code",
   "execution_count": 11,
   "id": "6ed7c03b",
   "metadata": {},
   "outputs": [],
   "source": [
    "# Creamos una lista que guardará las imágenes correspondientes a la primera secuencia \n",
    "path = glob.glob(\"Lab-Mov//seq4//seq4//*.bmp\")\n",
    "path.sort(key=lambda x: int((x.split(\".\")[0].split('\\\\')[1].split(\"-\")[1]))) # reordena los frames\n",
    "\n",
    "seq4 = [cv2.imread(file) for file in path]\n",
    "\n",
    "#Tamaño de la última imagen alto y ancho\n",
    "height, width  = seq4[-1].shape[:2]\n",
    "\n",
    "video = cv2.VideoWriter('seq4.mp4', cv2.VideoWriter_fourcc(*'mp4v'), 25, (width,height))\n",
    "\n",
    "#For para guardar frames en un video\n",
    "for i in range(len(seq4)):\n",
    "    video.write(seq4[i])\n",
    "\n",
    "video.release()         "
   ]
  },
  {
   "cell_type": "code",
   "execution_count": 12,
   "id": "bee16b58",
   "metadata": {},
   "outputs": [
    {
     "data": {
      "text/plain": [
       "'46'"
      ]
     },
     "execution_count": 12,
     "metadata": {},
     "output_type": "execute_result"
    }
   ],
   "source": [
    "path[45].split(\".\")[0].split('\\\\')[1].split(\"-\")[1]"
   ]
  },
  {
   "cell_type": "code",
   "execution_count": 13,
   "id": "ef20de20",
   "metadata": {},
   "outputs": [],
   "source": [
    "path.sort(key=lambda x: int((x.split(\".\")[0].split('\\\\')[1].split(\"-\")[1]))) # reordena los frames"
   ]
  },
  {
   "cell_type": "code",
   "execution_count": 14,
   "id": "ce5f8d04",
   "metadata": {},
   "outputs": [
    {
     "name": "stdout",
     "output_type": "stream",
     "text": [
      "(352, 288)\n"
     ]
    }
   ],
   "source": [
    "\n",
    "\n",
    "# Creamos una lista que guardará las imágenes correspondientes a la primera secuencia \n",
    "path = glob.glob(\"Lab-Mov//seq5//seq5//*.bmp\")\n",
    "path.sort(key=lambda x: int((x.split(\".\")[0].split('\\\\')[1].split(\"-\")[1]))) # reordena los frames\n",
    "seq5 = [cv2.imread(file) for file in path]\n",
    "\n",
    "#Tamaño de la última imagen alto y ancho\n",
    "height, width  = seq5[-1].shape[:2]\n",
    "\n",
    "print((width,height))\n",
    "\n",
    "video = cv2.VideoWriter('seq5.mp4', cv2.VideoWriter_fourcc(*'mp4v'), 25, (width,height))\n",
    "\n",
    "#For para guardar frames en un video\n",
    "for i in range(len(seq5)):\n",
    "    video.write(seq5[i])\n",
    "\n",
    "video.release()         "
   ]
  },
  {
   "cell_type": "code",
   "execution_count": 15,
   "id": "805ee8db",
   "metadata": {},
   "outputs": [
    {
     "name": "stdout",
     "output_type": "stream",
     "text": [
      "(352, 288)\n"
     ]
    }
   ],
   "source": [
    "# Creamos una lista que guardará las imágenes correspondientes a la primera secuencia \n",
    "path = glob.glob(\"Lab-Mov//seq6//seq6//*.bmp\")\n",
    "path.sort(key=lambda x: int((x.split(\".\")[0].split('\\\\')[1].split(\"-\")[1]))) # reordena los frames\n",
    "seq6 = [cv2.imread(file) for file in path]\n",
    "\n",
    "#Tamaño de la última imagen alto y ancho\n",
    "height, width  = seq6[-1].shape[:2]\n",
    "\n",
    "print((width,height))\n",
    "\n",
    "video = cv2.VideoWriter('seq6.mp4', cv2.VideoWriter_fourcc(*'mp4v'), 25, (width,height))\n",
    "\n",
    "#For para guardar frames en un video\n",
    "for i in range(len(seq6)):\n",
    "    video.write(seq6[i])\n",
    "\n",
    "video.release()         "
   ]
  },
  {
   "cell_type": "code",
   "execution_count": null,
   "id": "8b12dafa",
   "metadata": {},
   "outputs": [],
   "source": []
  }
 ],
 "metadata": {
  "kernelspec": {
   "display_name": "Python 3",
   "language": "python",
   "name": "python3"
  },
  "language_info": {
   "codemirror_mode": {
    "name": "ipython",
    "version": 3
   },
   "file_extension": ".py",
   "mimetype": "text/x-python",
   "name": "python",
   "nbconvert_exporter": "python",
   "pygments_lexer": "ipython3",
   "version": "3.8.8"
  }
 },
 "nbformat": 4,
 "nbformat_minor": 5
}
