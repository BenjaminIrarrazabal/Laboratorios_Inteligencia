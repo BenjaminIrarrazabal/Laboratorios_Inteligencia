{
 "cells": [
  {
   "cell_type": "markdown",
   "metadata": {
    "id": "Z0IpQUM9pP2v"
   },
   "source": [
    "# Búsqueda de Imágenes Similares Basado en su Contenido (CBIR)\n",
    "## Autores: Joaquín Zepeda V. / Benjamín Irarrázabal T.\n",
    "\n",
    "En el siguiente notebook se tiene como objetivo desarrollar e implementar un algoritmo CBIR utilizando las bases de datos de INRIA Holidays dataset y GPR1200. \\\\\n",
    "En este, se trabajará con dos extractores de características distintos, uno clásico (HOG) y una red convolucional pre entrenada(VGG16). Luego, usando una medida de similitud (Distancia Euclidiana) y dos tipos de ranking definidos se tomarán los resultados obtenidos. "
   ]
  },
  {
   "cell_type": "code",
   "execution_count": null,
   "metadata": {
    "id": "y1-qHukOYxQY"
   },
   "outputs": [],
   "source": [
    "# Importamos librerías importantes\n",
    "import cv2\n",
    "import numpy as np\n",
    "import matplotlib.pyplot as plt\n",
    "import pandas as pd\n",
    "import glob\n",
    "\n",
    "from skimage.transform import resize\n",
    "from skimage import exposure\n",
    "import pickle"
   ]
  },
  {
   "cell_type": "markdown",
   "metadata": {
    "id": "3KYu97laWMVK"
   },
   "source": [
    "## Handcrafted metods"
   ]
  },
  {
   "cell_type": "code",
   "execution_count": null,
   "metadata": {
    "id": "pj4fdwXyIhHw"
   },
   "outputs": [],
   "source": [
    "def classic_extractor_histogram(img):\n",
    "    \"\"\"\n",
    "    Extractor de caracteristicas de una imagen con metodos handcrafted\n",
    "\n",
    "    :param numpy.ndarray img: imagen\n",
    "    \n",
    "    :return: el vector caracteristicas\n",
    "    \"\"\"\n",
    "    #The Histogram RGB feature descriptor\n",
    "\n",
    "    # ajustamos el tamaño de la imagen\n",
    "    resized_img = resize(img, (128*4, 64*4))\n",
    "\n",
    "    #creating histogram features\n",
    "    histogram, bin_edges = np.histogram(img, bins=256)\n",
    "\n",
    "    return histogram"
   ]
  },
  {
   "cell_type": "markdown",
   "metadata": {
    "id": "Zx_tRJ5mZQrs"
   },
   "source": [
    "## CNN metod"
   ]
  },
  {
   "cell_type": "code",
   "execution_count": null,
   "metadata": {
    "id": "E-fsXfgLZR58"
   },
   "outputs": [],
   "source": [
    "from keras.applications.vgg16 import VGG16\n",
    "from keras.models import Model\n",
    "\n",
    "model = VGG16(include_top=False,input_shape=( 224, 224, 3))\n",
    "# remove the output layer\n",
    "model = Model(inputs=model.inputs, outputs=model.layers[-1].output)\n",
    "\n",
    "def cnn_extractor_VGG16(img,model=model):\n",
    "    \"\"\"\n",
    "    Extractor de caracteristicas de una imagen con una red resnet pre-entrenada\n",
    "\n",
    "    :param numpy.ndarray img: imagen\n",
    "\n",
    "    :return: el vector caracteristicas\n",
    "    \"\"\"\n",
    "    # preprocess img\n",
    "    img = cv2.resize(img,(224,224))\n",
    "    img = np.reshape(img,[1,224,224,3]) # return the image with shaping that TF wants.\n",
    "\n",
    "\n",
    "    # get extracted features\n",
    "    features = model.predict(img)\n",
    "    print('.',end='')\n",
    "\n",
    "    # 1x7x7x512 = 25088\n",
    "    return features.flatten()"
   ]
  },
  {
   "cell_type": "markdown",
   "metadata": {
    "id": "fL8octdGN5yH"
   },
   "source": [
    "\n",
    "\n",
    "## **1) Cálculo de vector de características**\n",
    "Esta función calcula el vector de características y los guarda en un dataframe, el cual luego se guarda utilizando pickle.\n",
    "\n",
    "\n",
    "\n"
   ]
  },
  {
   "cell_type": "code",
   "execution_count": null,
   "metadata": {
    "id": "t_0L4ekCN5LE"
   },
   "outputs": [],
   "source": [
    "def extract_features(img,tipo_extractor):\n",
    "    \"\"\"\n",
    "    Extractor de caracteristicas de una imagen con metodos handcrafted\n",
    "\n",
    "    :param numpy.ndarray img: imagen\n",
    "    :param str tipo_extractor: Tipo del extractor, puede ser clasico o CNN\n",
    "\n",
    "    :return: el vector caracteristicas\n",
    "    \"\"\"\n",
    "    if tipo_extractor == 'classic':\n",
    "        features = classic_extractor_histogram(img)\n",
    "    elif tipo_extractor == 'CNN':\n",
    "        features = cnn_extractor_VGG16(img)\n",
    "    else:\n",
    "        print('seleccione el tipo de extractor')\n",
    "        return \n",
    "    return features"
   ]
  },
  {
   "cell_type": "markdown",
   "metadata": {
    "id": "7zVcboBgYTVK"
   },
   "source": [
    "# INRIA Holidays\n",
    " Primero se utiliza el comando wget para cargar la base de datos jpg1 y jpg2, en donde luego se descomprimen utilizando el comando tar."
   ]
  },
  {
   "cell_type": "code",
   "execution_count": null,
   "metadata": {
    "id": "KZQJ88zoYI-7"
   },
   "outputs": [],
   "source": [
    "!mkdir jpg1\n",
    "%cd /content/jpg1\n",
    "!wget ftp://ftp.inrialpes.fr/pub/lear/douze/data/jpg1.tar.gz\n",
    "!tar -xf jpg1.tar.gz"
   ]
  },
  {
   "cell_type": "code",
   "execution_count": null,
   "metadata": {
    "id": "_LjvcDddYcOO"
   },
   "outputs": [],
   "source": [
    "%cd ..\n",
    "!mkdir jpg2\n",
    "%cd /content/jpg2\n",
    "!wget ftp://ftp.inrialpes.fr/pub/lear/douze/data/jpg2.tar.gz\n",
    "!tar -xf jpg2.tar.gz\n",
    "%cd .."
   ]
  },
  {
   "cell_type": "code",
   "execution_count": null,
   "metadata": {
    "id": "DIZTLXLdTJLJ"
   },
   "outputs": [],
   "source": [
    "dataFrame = pd.DataFrame(columns=['Name', 'Feature vector'])"
   ]
  },
  {
   "cell_type": "markdown",
   "metadata": {
    "id": "15n7cZ5LeZxu"
   },
   "source": [
    "## Handcrafted metod"
   ]
  },
  {
   "cell_type": "code",
   "execution_count": null,
   "metadata": {
    "id": "hSgfrgW3N5Nq"
   },
   "outputs": [],
   "source": [
    "# Creamos una lista que guardará las imágenes correspondientes a la primera secuencia \n",
    "path = glob.glob(\"jpg1//jpg//*.jpg\") #ojo la lista de nombres no esta ordenada\n",
    "\n",
    "for file in path:\n",
    "    img = cv2.imread(file)\n",
    "    feature = extract_features(img,tipo_extractor='classic')\n",
    "    dataFrame = dataFrame.append({'Name': file[10:-4], 'Feature vector':feature}, ignore_index=True)"
   ]
  },
  {
   "cell_type": "code",
   "execution_count": null,
   "metadata": {
    "id": "9f-bRzLaTG3g"
   },
   "outputs": [],
   "source": [
    "\n",
    "# Creamos una lista que guardará las imágenes correspondientes a la primera secuencia \n",
    "path = glob.glob(\"jpg2//jpg//*.jpg\") #ojo la lista de nombres no esta ordenada\n",
    "\n",
    "for file in path:\n",
    "    img = cv2.imread(file)\n",
    "    feature = extract_features(img,tipo_extractor='classic')\n",
    "    dataFrame = dataFrame.append({'Name': file[10:-4], 'Feature vector':feature}, ignore_index=True)"
   ]
  },
  {
   "cell_type": "code",
   "execution_count": null,
   "metadata": {
    "id": "waDsTNLmYcT6"
   },
   "outputs": [],
   "source": [
    "import pickle\n",
    "with open('FeaturesHC_pkl', 'wb') as file:\n",
    "    pickle.dump(dataFrame, file)"
   ]
  },
  {
   "cell_type": "markdown",
   "metadata": {
    "id": "HeLBYvWReVEE"
   },
   "source": [
    "## CNN metod"
   ]
  },
  {
   "cell_type": "code",
   "execution_count": null,
   "metadata": {
    "id": "UXIRWOfXeURp"
   },
   "outputs": [],
   "source": [
    "dataFrame = pd.DataFrame(columns=['Name', 'Feature vector'])"
   ]
  },
  {
   "cell_type": "code",
   "execution_count": null,
   "metadata": {
    "id": "CByGuhGqeFwJ"
   },
   "outputs": [],
   "source": [
    "# Creamos una lista que guardará las imágenes correspondientes a la primera secuencia \n",
    "path = glob.glob(\"jpg1//jpg//*.jpg\") #ojo la lista de nombres no esta ordenada\n",
    "\n",
    "for file in path:\n",
    "    img = cv2.imread(file)\n",
    "    feature = extract_features(img,tipo_extractor='CNN')\n",
    "    dataFrame = dataFrame.append({'Name': file[10:-4], 'Feature vector':feature}, ignore_index=True)"
   ]
  },
  {
   "cell_type": "code",
   "execution_count": null,
   "metadata": {
    "id": "h9lstg6WeFyv"
   },
   "outputs": [],
   "source": [
    "\n",
    "# Creamos una lista que guardará las imágenes correspondientes a la primera secuencia \n",
    "path = glob.glob(\"jpg2//jpg//*.jpg\") #ojo la lista de nombres no esta ordenada\n",
    "\n",
    "for file in path:\n",
    "    img = cv2.imread(file)\n",
    "    feature = extract_features(img,tipo_extractor='CNN')\n",
    "    dataFrame = dataFrame.append({'Name': file[10:-4], 'Feature vector':feature}, ignore_index=True)"
   ]
  },
  {
   "cell_type": "code",
   "execution_count": null,
   "metadata": {
    "id": "4W5gmCWreF2O"
   },
   "outputs": [],
   "source": [
    "import pickle\n",
    "with open('FeaturesCNN_pkl', 'wb') as file:\n",
    "    pickle.dump(dataFrame, file)"
   ]
  },
  {
   "cell_type": "markdown",
   "metadata": {
    "id": "k4E4ol4HYXhD"
   },
   "source": [
    "# GPR1200"
   ]
  },
  {
   "cell_type": "code",
   "execution_count": null,
   "metadata": {
    "colab": {
     "base_uri": "https://localhost:8080/"
    },
    "id": "rSWKCs4XeS66",
    "outputId": "6d8079e5-0bc1-46e3-c4a9-dfecb51b6145"
   },
   "outputs": [
    {
     "name": "stdout",
     "output_type": "stream",
     "text": [
      "Looking in indexes: https://pypi.org/simple, https://us-python.pkg.dev/colab-wheels/public/simple/\n",
      "Collecting wget\n",
      "  Downloading wget-3.2.zip (10 kB)\n",
      "Building wheels for collected packages: wget\n",
      "  Building wheel for wget (setup.py) ... \u001b[?25l\u001b[?25hdone\n",
      "  Created wheel for wget: filename=wget-3.2-py3-none-any.whl size=9675 sha256=60b9267e4936b807a72913e0f6a1e7f33fb52c75373c3edefbad0cc421275b3e\n",
      "  Stored in directory: /root/.cache/pip/wheels/a1/b6/7c/0e63e34eb06634181c63adacca38b79ff8f35c37e3c13e3c02\n",
      "Successfully built wget\n",
      "Installing collected packages: wget\n",
      "Successfully installed wget-3.2\n"
     ]
    }
   ],
   "source": [
    "!pip install wget"
   ]
  },
  {
   "cell_type": "code",
   "execution_count": null,
   "metadata": {
    "id": "7-iIl5O2eJmo"
   },
   "outputs": [],
   "source": [
    "import wget\n",
    "url = 'https://visual-computing.com/files/GPR1200/GPR1200.zip'\n",
    "filename = wget.download(url)\n",
    "!unzip GPR1200.zip\n",
    "print('Se cargo la base de datos de GPR1200')"
   ]
  },
  {
   "cell_type": "code",
   "execution_count": null,
   "metadata": {
    "colab": {
     "base_uri": "https://localhost:8080/"
    },
    "id": "HpZdAUh6aayG",
    "outputId": "6d8079e5-0bc1-46e3-c4a9-dfecb51b6145"
   },
   "outputs": [
    {
     "name": "stdout",
     "output_type": "stream",
     "text": [
      "Looking in indexes: https://pypi.org/simple, https://us-python.pkg.dev/colab-wheels/public/simple/\n",
      "Collecting wget\n",
      "  Downloading wget-3.2.zip (10 kB)\n",
      "Building wheels for collected packages: wget\n",
      "  Building wheel for wget (setup.py) ... \u001b[?25l\u001b[?25hdone\n",
      "  Created wheel for wget: filename=wget-3.2-py3-none-any.whl size=9675 sha256=60b9267e4936b807a72913e0f6a1e7f33fb52c75373c3edefbad0cc421275b3e\n",
      "  Stored in directory: /root/.cache/pip/wheels/a1/b6/7c/0e63e34eb06634181c63adacca38b79ff8f35c37e3c13e3c02\n",
      "Successfully built wget\n",
      "Installing collected packages: wget\n",
      "Successfully installed wget-3.2\n"
     ]
    }
   ],
   "source": [
    "!pip install wget"
   ]
  },
  {
   "cell_type": "code",
   "execution_count": null,
   "metadata": {
    "id": "Vq5Bq31SaayH"
   },
   "outputs": [],
   "source": [
    "import wget\n",
    "url = 'https://visual-computing.com/files/GPR1200/GPR1200.zip'\n",
    "filename = wget.download(url)"
   ]
  },
  {
   "cell_type": "code",
   "execution_count": 1,
   "metadata": {
    "colab": {
     "base_uri": "https://localhost:8080/"
    },
    "id": "yo-MjssGaayL",
    "outputId": "d430fcdb-0ba9-4bd4-f25c-6baf8201f201"
   },
   "outputs": [],
   "source": [
    "!unzip GPR1200.zip"
   ]
  },
  {
   "cell_type": "code",
   "execution_count": null,
   "metadata": {
    "colab": {
     "base_uri": "https://localhost:8080/"
    },
    "id": "EY6aLb2Fe0e5",
    "outputId": "ce6da154-bf94-4d3c-d574-bc3b2ad497be"
   },
   "outputs": [
    {
     "name": "stdout",
     "output_type": "stream",
     "text": [
      "................................................................................................................................................................................................................................................................................................................................................................................................................................................................................................................................................................................................................................................................................................................................................................................................................................................................................................................................................................................................................................................................................................................................................................................................................................................................................................................................................................................................................................................................................................................................................................................................................................................................................................................................................................................................................................................................................................................................................................................................................................................................................................................................................................................................................................................................................................................................................................................................................................................................................................................................................................................................................................................................................................................................................................................................................................................................................................................................................................................................................................................................................................................................................................................................................................................................................................................................................................................................................................................................................................................................................................................................................................................................................................................................................................................................................................................................................................................................................................................................................................................................................................................................................................................................................................................................................................................................................................................................................................................................................................................................................................................................................................................................................................................................................................................................................................................................................................................................................................................................................................................................................................................................................................................................................................................................................................................................................................................................................................................................................................................................................................................................................................................................................................................................................................................................................................................................................................................................................................................................................................................................................................................................................................................................................................................................................................................................................................................................................................................................................................................................................................................................................................................................................................................................................................................................................................................................................................................................................................................................................................................................................................................................................................................................................................................................................................................................................................................................................................................................................................................................................................................................................................................................................................................................................................................................................................................................................................................................................................................................................................................................................................................................................................................................................................................................................................................................"
     ]
    }
   ],
   "source": [
    "# hay que tener ojo con los paths pues a veces toma como diferentes los archivos .jpg y .JPG\n",
    "path = glob.glob(\"images/*.jpg\")\n",
    "path2 = glob.glob(\"images/*.JPEG\")\n",
    "path3 = glob.glob(\"images/*.JPG\")"
   ]
  },
  {
   "cell_type": "markdown",
   "metadata": {
    "id": "mGDNopFUehP-"
   },
   "source": [
    "# Handcrafted metod"
   ]
  },
  {
   "cell_type": "code",
   "execution_count": null,
   "metadata": {
    "id": "5Om8Wy70cz-V"
   },
   "outputs": [],
   "source": [
    "GPR_Features = pd.DataFrame(columns=['Name', 'Features'])\n",
    "for file in path:\n",
    "    img = cv2.imread(file)\n",
    "    feature = extract_features(img,'classic')\n",
    "    GPR_Features = GPR_Features.append({'Name': file[6:-4], 'Features':feature}, ignore_index = True)\n",
    "\n",
    "for file in path2:\n",
    "    img = cv2.imread(file)\n",
    "    feature = extract_features(img,'classic')\n",
    "    GPR_Features = GPR_Features.append({'Name': file[6:-5], 'Features':feature}, ignore_index = True)\n",
    "\n",
    "for file in path3:\n",
    "    img = cv2.imread(file)\n",
    "    feature = extract_features(img,'classic')\n",
    "    GPR_Features = GPR_Features.append({'Name': file[6:-4], 'Features':feature}, ignore_index = True)"
   ]
  },
  {
   "cell_type": "code",
   "execution_count": null,
   "metadata": {
    "id": "FzHebALuc0BX"
   },
   "outputs": [],
   "source": [
    "import pickle\n",
    "with open('GPR_FeaturesHC_pkl', 'wb') as file:\n",
    "    pickle.dump(GPR_Features, file)"
   ]
  },
  {
   "cell_type": "markdown",
   "metadata": {
    "id": "YXCI1ftkemdx"
   },
   "source": [
    "## CNN metod"
   ]
  },
  {
   "cell_type": "code",
   "execution_count": null,
   "metadata": {
    "colab": {
     "base_uri": "https://localhost:8080/"
    },
    "id": "ScWO6jRQSxrJ",
    "outputId": "d3fd40fc-f63f-45ce-eafe-a9f2bc4be4e3"
   },
   "outputs": [
    {
     "name": "stdout",
     "output_type": "stream",
     "text": [
      "................................................................................................................................................................................................................................................................................................................................................................................................................................................................................................................................................................................................................................................................................................................................................................................................................................................................................................................................................................................................................................................................................................................................................................................................................................................................................................................................................................................................................................................................................................................................................................................................................................................................................................................................................................................................................................................................................................................................................................................................................................................................................................................................................................................................................................................................................................................................................................................................................................................................................................................................................................................................................................................................................................................................................................................................................................................................................................................................................................................................................................................................................................................................................................................................................................................................................................................................................................................................................................................................................................................................................................................................................................................................................................................................................................................................................................................................................................................................................................................................................................................................................................................................................................"
     ]
    }
   ],
   "source": [
    "GPR_Features_cnn = pd.DataFrame(columns=['Name', 'Features'])\n",
    "for file in path:\n",
    "    img = cv2.imread(file)\n",
    "    feature = extract_features(img,'CNN')\n",
    "    GPR_Features_cnn = GPR_Features_cnn.append({'Name': file[6:-4], 'Features':feature}, ignore_index = True)\n",
    "\n",
    "for file in path2:\n",
    "    img = cv2.imread(file)\n",
    "    feature = extract_features(img,'CNN')\n",
    "    GPR_Features_cnn = GPR_Features_cnn.append({'Name': file[6:-5], 'Features':feature}, ignore_index = True)\n",
    "\n",
    "for file in path3:\n",
    "    img = cv2.imread(file)\n",
    "    feature = extract_features(img,'CNN')\n",
    "    GPR_Features_cnn = GPR_Features_cnn.append({'Name': file[6:-4], 'Features':feature}, ignore_index = True)"
   ]
  },
  {
   "cell_type": "markdown",
   "metadata": {
    "id": "OEXwasirbUUp"
   },
   "source": [
    "Se guardan las características como un archivo binario utilizando pickle, se codifica con el fin de no perder información, incluso se guarda como dataframe."
   ]
  },
  {
   "cell_type": "code",
   "execution_count": null,
   "metadata": {
    "id": "FM3n_3WlYZGU"
   },
   "outputs": [],
   "source": [
    "import pickle\n",
    "with open('GPR_FeaturesCNN_pkl', 'wb') as file:\n",
    "    pickle.dump(GPR_Features_cnn, file)"
   ]
  },
  {
   "cell_type": "markdown",
   "metadata": {
    "id": "gcshAk66fv0G"
   },
   "source": [
    "# Cargar features\n",
    "\n",
    "Ya fueron extraidas las caracteristicas, para cargarlas se puede hacer clonando el repositorio de github."
   ]
  },
  {
   "cell_type": "code",
   "execution_count": null,
   "metadata": {
    "id": "ojDC37_NYZJb"
   },
   "outputs": [],
   "source": [
    "!git clone https://github.com/BenjaminIrarrazabal/Laboratorios_Inteligencia.git\n",
    "!ls\n",
    "%cd Laboratorios_Inteligencia/Proyecto\\ final/features"
   ]
  },
  {
   "cell_type": "code",
   "execution_count": null,
   "metadata": {
    "id": "eSV-vOIUfu_M"
   },
   "outputs": [],
   "source": [
    "import pickle\n",
    "# load saved model\n",
    "with open('img_query_pkl' , 'rb') as f:\n",
    "    img_query = pickle.load(f)\n",
    "with open('img_database_pkl' , 'rb') as f:\n",
    "    img_database = pickle.load(f)\n",
    "with open('img_query_cnn_pkl' , 'rb') as f:\n",
    "    img_query_cnn = pickle.load(f)\n",
    "with open('img_database_cnn_pkl' , 'rb') as f:\n",
    "    img_database_cnn = pickle.load(f)"
   ]
  },
  {
   "cell_type": "code",
   "execution_count": null,
   "metadata": {
    "id": "6RpcBUL4fvCg"
   },
   "outputs": [],
   "source": []
  }
 ],
 "metadata": {
  "colab": {
   "name": "CBIR feature_extractor",
   "provenance": [],
   "toc_visible": true
  },
  "kernelspec": {
   "display_name": "Python 3",
   "language": "python",
   "name": "python3"
  },
  "language_info": {
   "codemirror_mode": {
    "name": "ipython",
    "version": 3
   },
   "file_extension": ".py",
   "mimetype": "text/x-python",
   "name": "python",
   "nbconvert_exporter": "python",
   "pygments_lexer": "ipython3",
   "version": "3.8.8"
  }
 },
 "nbformat": 4,
 "nbformat_minor": 1
}
