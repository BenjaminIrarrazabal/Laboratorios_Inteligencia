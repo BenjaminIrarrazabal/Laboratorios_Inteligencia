{
 "cells": [
  {
   "cell_type": "markdown",
   "id": "21b85e9a",
   "metadata": {},
   "source": [
    "# Rank Comparation - HC v/s CNN"
   ]
  },
  {
   "cell_type": "markdown",
   "id": "0e8aea0e",
   "metadata": {},
   "source": [
    "## Autores: Benjamín Irarrázabal / Joaquín Zepeda"
   ]
  },
  {
   "cell_type": "markdown",
   "id": "e6c6f309",
   "metadata": {},
   "source": [
    "Este notebook reúne los códigos necesarios para calcular las medidas de similitud, el ranking y el ploteo de las imágenes similares a la consultada. \\\n",
    "Este considera las Features ya extraídas por las funciones definidas en otro Notebook (también entregado). Accediendo a ellas usando el directorio donde se ubican. \\\n",
    "Cabe destacar que este código de está corriendo localmente en Jupyter Notebook. \\\n",
    "**Ver Anexo de Informe para Instrucciones detalladas**"
   ]
  },
  {
   "cell_type": "markdown",
   "id": "c22d13f6",
   "metadata": {},
   "source": [
    "# Importamos librerías importantes"
   ]
  },
  {
   "cell_type": "code",
   "execution_count": 23,
   "id": "e1c6182c",
   "metadata": {},
   "outputs": [],
   "source": [
    "import matplotlib.pyplot as plt\n",
    "import pandas as pd\n",
    "import numpy as np\n",
    "import pickle"
   ]
  },
  {
   "cell_type": "markdown",
   "id": "a5075a48",
   "metadata": {},
   "source": [
    "# Cargamos los datos de ranking de INRIA Holidays database"
   ]
  },
  {
   "cell_type": "code",
   "execution_count": 2,
   "id": "b869b06f",
   "metadata": {},
   "outputs": [],
   "source": [
    "with open('Rank_HC_pkl' , 'rb') as f:\n",
    "    Rank_HC = pickle.load(f)"
   ]
  },
  {
   "cell_type": "code",
   "execution_count": 3,
   "id": "ab563247",
   "metadata": {},
   "outputs": [],
   "source": [
    "with open('Rank_CNN_pkl' , 'rb') as f:\n",
    "    Rank_CNN = pickle.load(f)"
   ]
  },
  {
   "cell_type": "code",
   "execution_count": 4,
   "id": "951623fa",
   "metadata": {},
   "outputs": [
    {
     "data": {
      "text/html": [
       "<div>\n",
       "<style scoped>\n",
       "    .dataframe tbody tr th:only-of-type {\n",
       "        vertical-align: middle;\n",
       "    }\n",
       "\n",
       "    .dataframe tbody tr th {\n",
       "        vertical-align: top;\n",
       "    }\n",
       "\n",
       "    .dataframe thead th {\n",
       "        text-align: right;\n",
       "    }\n",
       "</style>\n",
       "<table border=\"1\" class=\"dataframe\">\n",
       "  <thead>\n",
       "    <tr style=\"text-align: right;\">\n",
       "      <th></th>\n",
       "      <th>Name</th>\n",
       "      <th>Rank</th>\n",
       "    </tr>\n",
       "  </thead>\n",
       "  <tbody>\n",
       "    <tr>\n",
       "      <th>0</th>\n",
       "      <td>103500</td>\n",
       "      <td>0.181971</td>\n",
       "    </tr>\n",
       "    <tr>\n",
       "      <th>1</th>\n",
       "      <td>126100</td>\n",
       "      <td>0.620585</td>\n",
       "    </tr>\n",
       "    <tr>\n",
       "      <th>2</th>\n",
       "      <td>118800</td>\n",
       "      <td>0.208544</td>\n",
       "    </tr>\n",
       "    <tr>\n",
       "      <th>3</th>\n",
       "      <td>128800</td>\n",
       "      <td>0.929364</td>\n",
       "    </tr>\n",
       "    <tr>\n",
       "      <th>4</th>\n",
       "      <td>127600</td>\n",
       "      <td>0.171544</td>\n",
       "    </tr>\n",
       "    <tr>\n",
       "      <th>...</th>\n",
       "      <td>...</td>\n",
       "      <td>...</td>\n",
       "    </tr>\n",
       "    <tr>\n",
       "      <th>495</th>\n",
       "      <td>149800</td>\n",
       "      <td>0.284561</td>\n",
       "    </tr>\n",
       "    <tr>\n",
       "      <th>496</th>\n",
       "      <td>139300</td>\n",
       "      <td>0.513959</td>\n",
       "    </tr>\n",
       "    <tr>\n",
       "      <th>497</th>\n",
       "      <td>146800</td>\n",
       "      <td>0.815338</td>\n",
       "    </tr>\n",
       "    <tr>\n",
       "      <th>498</th>\n",
       "      <td>148200</td>\n",
       "      <td>0.427178</td>\n",
       "    </tr>\n",
       "    <tr>\n",
       "      <th>499</th>\n",
       "      <td>136500</td>\n",
       "      <td>0.747326</td>\n",
       "    </tr>\n",
       "  </tbody>\n",
       "</table>\n",
       "<p>500 rows × 2 columns</p>\n",
       "</div>"
      ],
      "text/plain": [
       "       Name      Rank\n",
       "0    103500  0.181971\n",
       "1    126100  0.620585\n",
       "2    118800  0.208544\n",
       "3    128800  0.929364\n",
       "4    127600  0.171544\n",
       "..      ...       ...\n",
       "495  149800  0.284561\n",
       "496  139300  0.513959\n",
       "497  146800  0.815338\n",
       "498  148200  0.427178\n",
       "499  136500  0.747326\n",
       "\n",
       "[500 rows x 2 columns]"
      ]
     },
     "execution_count": 4,
     "metadata": {},
     "output_type": "execute_result"
    }
   ],
   "source": [
    "Rank_HC"
   ]
  },
  {
   "cell_type": "code",
   "execution_count": 5,
   "id": "bab455ba",
   "metadata": {},
   "outputs": [
    {
     "data": {
      "text/html": [
       "<div>\n",
       "<style scoped>\n",
       "    .dataframe tbody tr th:only-of-type {\n",
       "        vertical-align: middle;\n",
       "    }\n",
       "\n",
       "    .dataframe tbody tr th {\n",
       "        vertical-align: top;\n",
       "    }\n",
       "\n",
       "    .dataframe thead th {\n",
       "        text-align: right;\n",
       "    }\n",
       "</style>\n",
       "<table border=\"1\" class=\"dataframe\">\n",
       "  <thead>\n",
       "    <tr style=\"text-align: right;\">\n",
       "      <th></th>\n",
       "      <th>Name</th>\n",
       "      <th>Rank</th>\n",
       "    </tr>\n",
       "  </thead>\n",
       "  <tbody>\n",
       "    <tr>\n",
       "      <th>0</th>\n",
       "      <td>103500</td>\n",
       "      <td>0.252943</td>\n",
       "    </tr>\n",
       "    <tr>\n",
       "      <th>1</th>\n",
       "      <td>126100</td>\n",
       "      <td>0.295156</td>\n",
       "    </tr>\n",
       "    <tr>\n",
       "      <th>2</th>\n",
       "      <td>118800</td>\n",
       "      <td>0.106963</td>\n",
       "    </tr>\n",
       "    <tr>\n",
       "      <th>3</th>\n",
       "      <td>128800</td>\n",
       "      <td>0.339051</td>\n",
       "    </tr>\n",
       "    <tr>\n",
       "      <th>4</th>\n",
       "      <td>127600</td>\n",
       "      <td>0.526236</td>\n",
       "    </tr>\n",
       "    <tr>\n",
       "      <th>...</th>\n",
       "      <td>...</td>\n",
       "      <td>...</td>\n",
       "    </tr>\n",
       "    <tr>\n",
       "      <th>495</th>\n",
       "      <td>149800</td>\n",
       "      <td>0.277497</td>\n",
       "    </tr>\n",
       "    <tr>\n",
       "      <th>496</th>\n",
       "      <td>139300</td>\n",
       "      <td>0.440296</td>\n",
       "    </tr>\n",
       "    <tr>\n",
       "      <th>497</th>\n",
       "      <td>146800</td>\n",
       "      <td>0.112008</td>\n",
       "    </tr>\n",
       "    <tr>\n",
       "      <th>498</th>\n",
       "      <td>148200</td>\n",
       "      <td>0.427178</td>\n",
       "    </tr>\n",
       "    <tr>\n",
       "      <th>499</th>\n",
       "      <td>136500</td>\n",
       "      <td>0.339859</td>\n",
       "    </tr>\n",
       "  </tbody>\n",
       "</table>\n",
       "<p>500 rows × 2 columns</p>\n",
       "</div>"
      ],
      "text/plain": [
       "       Name      Rank\n",
       "0    103500  0.252943\n",
       "1    126100  0.295156\n",
       "2    118800  0.106963\n",
       "3    128800  0.339051\n",
       "4    127600  0.526236\n",
       "..      ...       ...\n",
       "495  149800  0.277497\n",
       "496  139300  0.440296\n",
       "497  146800  0.112008\n",
       "498  148200  0.427178\n",
       "499  136500  0.339859\n",
       "\n",
       "[500 rows x 2 columns]"
      ]
     },
     "execution_count": 5,
     "metadata": {},
     "output_type": "execute_result"
    }
   ],
   "source": [
    "Rank_CNN"
   ]
  },
  {
   "cell_type": "markdown",
   "id": "c9e4220c",
   "metadata": {},
   "source": [
    "## CNN vs HC (INRIA)"
   ]
  },
  {
   "cell_type": "code",
   "execution_count": 6,
   "id": "0bf360c4",
   "metadata": {},
   "outputs": [],
   "source": [
    "def Rank_win(rank_hc, rank_cnn):\n",
    "    \"\"\"\n",
    "    Cálculo de victorias entre ambos métodos de extracción\n",
    "    \n",
    "    :param pandas.DataFrame rank_hc: Frame de Ranking para método HandCrafted\n",
    "    :param pandas.DataFrame rank_cnn: Frame de Ranking para método CNN\n",
    "    \n",
    "    :return print de las estadísticas encontradas\n",
    "    \n",
    "    \"\"\"\n",
    "    # Se definen variables que irán guardando las victorias de cada método\n",
    "    Histogram_wins = 0\n",
    "    CNN_wins = 0\n",
    "    Tie = 0\n",
    "    # Se itera sobre los frames para analizar y comparar\n",
    "    for i in range(len(rank_hc)):\n",
    "        if rank_hc.iloc[i] > rank_cnn.iloc[i]:\n",
    "            CNN_wins += 1\n",
    "        elif rank_hc.iloc[i] < rank_cnn.iloc[i]:\n",
    "            Histogram_wins += 1\n",
    "        else:\n",
    "            Tie += 1\n",
    "    # Se realiza un print de los valores encontrados\n",
    "    print('Histogram_wins: '+str(Histogram_wins)+', CNN_wins: '+str(CNN_wins)+', Empates: '+str(Tie))\n",
    " "
   ]
  },
  {
   "cell_type": "code",
   "execution_count": 7,
   "id": "9ef5cfaa",
   "metadata": {},
   "outputs": [
    {
     "name": "stdout",
     "output_type": "stream",
     "text": [
      "Histogram_wins: 134, CNN_wins: 325, Empates: 41\n"
     ]
    }
   ],
   "source": [
    "Rank_win(Rank_HC['Rank'], Rank_CNN['Rank'])"
   ]
  },
  {
   "cell_type": "code",
   "execution_count": 22,
   "id": "015fc20d",
   "metadata": {},
   "outputs": [
    {
     "data": {
      "text/plain": [
       "Text(0.5, 1.0, 'CNN v/s Histogram Rank, INRIA')"
      ]
     },
     "execution_count": 22,
     "metadata": {},
     "output_type": "execute_result"
    },
    {
     "data": {
      "image/png": "[encoded data removed]",
      "text/plain": [
       "<Figure size 432x288 with 1 Axes>"
      ]
     },
     "metadata": {
      "needs_background": "light"
     },
     "output_type": "display_data"
    }
   ],
   "source": [
    "# Sección de código para graficar los rankings dentro de una misma figura para comparar\n",
    "y1 = Rank_HC['Rank'].tolist() # Handcrafted (HC)\n",
    "y2 = Rank_CNN['Rank'].tolist() # CNN\n",
    "x = np.arange(len(y1))\n",
    "plt.plot(x, y1,'b', label='Rank_HC')\n",
    "plt.plot(x, y2,'r', label='Rank_CNN')\n",
    "plt.legend()\n",
    "plt.xlabel('Class')\n",
    "plt.ylabel('Ranking')\n",
    "plt.title('CNN v/s Histogram Rank, INRIA')"
   ]
  },
  {
   "cell_type": "markdown",
   "id": "b37678cf",
   "metadata": {},
   "source": [
    "# Cargamos los datos de ranking para GPR1200 "
   ]
  },
  {
   "cell_type": "code",
   "execution_count": 24,
   "id": "c65b3e6d",
   "metadata": {},
   "outputs": [],
   "source": [
    "with open('RankGPR_HC_pkl' , 'rb') as f:\n",
    "    RankGPR_HC = pickle.load(f)"
   ]
  },
  {
   "cell_type": "code",
   "execution_count": 25,
   "id": "f6324a96",
   "metadata": {
    "scrolled": true
   },
   "outputs": [
    {
     "data": {
      "text/html": [
       "<div>\n",
       "<style scoped>\n",
       "    .dataframe tbody tr th:only-of-type {\n",
       "        vertical-align: middle;\n",
       "    }\n",
       "\n",
       "    .dataframe tbody tr th {\n",
       "        vertical-align: top;\n",
       "    }\n",
       "\n",
       "    .dataframe thead th {\n",
       "        text-align: right;\n",
       "    }\n",
       "</style>\n",
       "<table border=\"1\" class=\"dataframe\">\n",
       "  <thead>\n",
       "    <tr style=\"text-align: right;\">\n",
       "      <th></th>\n",
       "      <th>Name</th>\n",
       "      <th>Rank</th>\n",
       "    </tr>\n",
       "  </thead>\n",
       "  <tbody>\n",
       "    <tr>\n",
       "      <th>0</th>\n",
       "      <td>0_430b273cb7915d83</td>\n",
       "      <td>0.420368</td>\n",
       "    </tr>\n",
       "    <tr>\n",
       "      <th>1</th>\n",
       "      <td>0_618577ba46bc3d04</td>\n",
       "      <td>0.337343</td>\n",
       "    </tr>\n",
       "    <tr>\n",
       "      <th>2</th>\n",
       "      <td>0_8684223b404f7e47</td>\n",
       "      <td>0.314285</td>\n",
       "    </tr>\n",
       "    <tr>\n",
       "      <th>3</th>\n",
       "      <td>0_8c54ccf63a12ee74</td>\n",
       "      <td>0.247169</td>\n",
       "    </tr>\n",
       "    <tr>\n",
       "      <th>4</th>\n",
       "      <td>0_b904d301c9f168df</td>\n",
       "      <td>0.298655</td>\n",
       "    </tr>\n",
       "    <tr>\n",
       "      <th>...</th>\n",
       "      <td>...</td>\n",
       "      <td>...</td>\n",
       "    </tr>\n",
       "    <tr>\n",
       "      <th>11995</th>\n",
       "      <td>599_sketch_26</td>\n",
       "      <td>0.899519</td>\n",
       "    </tr>\n",
       "    <tr>\n",
       "      <th>11996</th>\n",
       "      <td>599_sketch_29</td>\n",
       "      <td>0.674010</td>\n",
       "    </tr>\n",
       "    <tr>\n",
       "      <th>11997</th>\n",
       "      <td>599_sketch_33</td>\n",
       "      <td>0.902094</td>\n",
       "    </tr>\n",
       "    <tr>\n",
       "      <th>11998</th>\n",
       "      <td>599_sketch_34</td>\n",
       "      <td>0.566964</td>\n",
       "    </tr>\n",
       "    <tr>\n",
       "      <th>11999</th>\n",
       "      <td>599_sketch_6</td>\n",
       "      <td>0.898908</td>\n",
       "    </tr>\n",
       "  </tbody>\n",
       "</table>\n",
       "<p>12000 rows × 2 columns</p>\n",
       "</div>"
      ],
      "text/plain": [
       "                     Name      Rank\n",
       "0      0_430b273cb7915d83  0.420368\n",
       "1      0_618577ba46bc3d04  0.337343\n",
       "2      0_8684223b404f7e47  0.314285\n",
       "3      0_8c54ccf63a12ee74  0.247169\n",
       "4      0_b904d301c9f168df  0.298655\n",
       "...                   ...       ...\n",
       "11995       599_sketch_26  0.899519\n",
       "11996       599_sketch_29  0.674010\n",
       "11997       599_sketch_33  0.902094\n",
       "11998       599_sketch_34  0.566964\n",
       "11999        599_sketch_6  0.898908\n",
       "\n",
       "[12000 rows x 2 columns]"
      ]
     },
     "execution_count": 25,
     "metadata": {},
     "output_type": "execute_result"
    }
   ],
   "source": [
    "RankGPR_HC"
   ]
  },
  {
   "cell_type": "code",
   "execution_count": 27,
   "id": "93501857",
   "metadata": {},
   "outputs": [],
   "source": [
    "with open('RankGPR_CNN_pkl' , 'rb') as f:\n",
    "    RankGPR_CNN = pickle.load(f)"
   ]
  },
  {
   "cell_type": "code",
   "execution_count": 28,
   "id": "991ca7d8",
   "metadata": {},
   "outputs": [
    {
     "data": {
      "text/html": [
       "<div>\n",
       "<style scoped>\n",
       "    .dataframe tbody tr th:only-of-type {\n",
       "        vertical-align: middle;\n",
       "    }\n",
       "\n",
       "    .dataframe tbody tr th {\n",
       "        vertical-align: top;\n",
       "    }\n",
       "\n",
       "    .dataframe thead th {\n",
       "        text-align: right;\n",
       "    }\n",
       "</style>\n",
       "<table border=\"1\" class=\"dataframe\">\n",
       "  <thead>\n",
       "    <tr style=\"text-align: right;\">\n",
       "      <th></th>\n",
       "      <th>Name</th>\n",
       "      <th>Rank</th>\n",
       "    </tr>\n",
       "  </thead>\n",
       "  <tbody>\n",
       "    <tr>\n",
       "      <th>0</th>\n",
       "      <td>201_170c388e8b1662e78f0e841c7102a0d8</td>\n",
       "      <td>0.518756</td>\n",
       "    </tr>\n",
       "    <tr>\n",
       "      <th>1</th>\n",
       "      <td>127_fc1d4cb6e009b51f</td>\n",
       "      <td>0.269365</td>\n",
       "    </tr>\n",
       "    <tr>\n",
       "      <th>2</th>\n",
       "      <td>770_049</td>\n",
       "      <td>0.508107</td>\n",
       "    </tr>\n",
       "    <tr>\n",
       "      <th>3</th>\n",
       "      <td>1007_nm1111968_rm3407907840_1982-5-28_2010</td>\n",
       "      <td>0.319508</td>\n",
       "    </tr>\n",
       "    <tr>\n",
       "      <th>4</th>\n",
       "      <td>638_033</td>\n",
       "      <td>0.447111</td>\n",
       "    </tr>\n",
       "    <tr>\n",
       "      <th>...</th>\n",
       "      <td>...</td>\n",
       "      <td>...</td>\n",
       "    </tr>\n",
       "    <tr>\n",
       "      <th>11995</th>\n",
       "      <td>887_161786546709_0</td>\n",
       "      <td>0.596707</td>\n",
       "    </tr>\n",
       "    <tr>\n",
       "      <th>11996</th>\n",
       "      <td>918_191395475622_9</td>\n",
       "      <td>0.459927</td>\n",
       "    </tr>\n",
       "    <tr>\n",
       "      <th>11997</th>\n",
       "      <td>869_141736585292_7</td>\n",
       "      <td>0.485290</td>\n",
       "    </tr>\n",
       "    <tr>\n",
       "      <th>11998</th>\n",
       "      <td>957_251733765235_3</td>\n",
       "      <td>0.432795</td>\n",
       "    </tr>\n",
       "    <tr>\n",
       "      <th>11999</th>\n",
       "      <td>946_231271952189_5</td>\n",
       "      <td>0.573927</td>\n",
       "    </tr>\n",
       "  </tbody>\n",
       "</table>\n",
       "<p>12000 rows × 2 columns</p>\n",
       "</div>"
      ],
      "text/plain": [
       "                                             Name      Rank\n",
       "0            201_170c388e8b1662e78f0e841c7102a0d8  0.518756\n",
       "1                            127_fc1d4cb6e009b51f  0.269365\n",
       "2                                         770_049  0.508107\n",
       "3      1007_nm1111968_rm3407907840_1982-5-28_2010  0.319508\n",
       "4                                         638_033  0.447111\n",
       "...                                           ...       ...\n",
       "11995                          887_161786546709_0  0.596707\n",
       "11996                          918_191395475622_9  0.459927\n",
       "11997                          869_141736585292_7  0.485290\n",
       "11998                          957_251733765235_3  0.432795\n",
       "11999                          946_231271952189_5  0.573927\n",
       "\n",
       "[12000 rows x 2 columns]"
      ]
     },
     "execution_count": 28,
     "metadata": {},
     "output_type": "execute_result"
    }
   ],
   "source": [
    "RankGPR_CNN"
   ]
  },
  {
   "cell_type": "markdown",
   "id": "c3a0c53e",
   "metadata": {},
   "source": [
    "## CNN vs HC (GPR1200)"
   ]
  },
  {
   "cell_type": "code",
   "execution_count": 29,
   "id": "a4e3e78c",
   "metadata": {},
   "outputs": [
    {
     "name": "stdout",
     "output_type": "stream",
     "text": [
      "Histogram_wins: 5437, CNN_wins: 6562, Empates: 1\n"
     ]
    }
   ],
   "source": [
    "Rank_win(RankGPR_HC['Rank'], RankGPR_CNN['Rank'])"
   ]
  },
  {
   "cell_type": "code",
   "execution_count": 30,
   "id": "2f402083",
   "metadata": {},
   "outputs": [
    {
     "data": {
      "text/plain": [
       "Text(0.5, 1.0, 'CNN v/s Histogram Rank, GPR1200')"
      ]
     },
     "execution_count": 30,
     "metadata": {},
     "output_type": "execute_result"
    },
    {
     "data": {
      "image/png": "[encoded data removed]",
      "text/plain": [
       "<Figure size 432x288 with 1 Axes>"
      ]
     },
     "metadata": {
      "needs_background": "light"
     },
     "output_type": "display_data"
    }
   ],
   "source": [
    "# Sección de código para graficar los rankings dentro de una misma figura para comparar\n",
    "y1 = RankGPR_HC['Rank'].tolist() # Handcrafted (HC)\n",
    "y2 = RankGPR_CNN['Rank'].tolist() # CNN\n",
    "x = np.arange(len(y1))\n",
    "plt.plot(x, y1,'b', label='RankGPR_HC')\n",
    "plt.plot(x, y2,'r', label='RankGPR_CNN')\n",
    "plt.legend()\n",
    "plt.xlabel('Class')\n",
    "plt.ylabel('Ranking')\n",
    "plt.title('CNN v/s Histogram Rank, GPR1200')"
   ]
  }
 ],
 "metadata": {
  "kernelspec": {
   "display_name": "Python 3 (ipykernel)",
   "language": "python",
   "name": "python3"
  },
  "language_info": {
   "codemirror_mode": {
    "name": "ipython",
    "version": 3
   },
   "file_extension": ".py",
   "mimetype": "text/x-python",
   "name": "python",
   "nbconvert_exporter": "python",
   "pygments_lexer": "ipython3",
   "version": "3.9.7"
  }
 },
 "nbformat": 4,
 "nbformat_minor": 5
}
