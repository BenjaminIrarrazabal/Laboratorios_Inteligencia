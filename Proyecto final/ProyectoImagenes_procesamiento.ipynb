{
  "nbformat": 4,
  "nbformat_minor": 0,
  "metadata": {
    "colab": {
      "name": "ProyectoImagenes_procesamiento.ipynb",
      "provenance": []
    },
    "kernelspec": {
      "name": "python3",
      "display_name": "Python 3"
    },
    "language_info": {
      "name": "python"
    }
  },
  "cells": [
    {
      "cell_type": "code",
      "source": [
        "import pandas as pd\n",
        "import numpy as np"
      ],
      "metadata": {
        "id": "9eGkka_0xrsn"
      },
      "execution_count": null,
      "outputs": []
    },
    {
      "cell_type": "code",
      "source": [
        "import picle\n",
        "# load saved model\n",
        "with open('featuresHC_pkl' , 'rb') as f:\n",
        "    features_pkl = pickle.load(f)"
      ],
      "metadata": {
        "id": "fNFMA6bzEqyN"
      },
      "execution_count": null,
      "outputs": []
    },
    {
      "cell_type": "markdown",
      "source": [
        "# **2) Medida de similitud**\n",
        "Implemente alguna medida de similitud entre vectores de características (distancias sugeridas: Euclidiana,\n",
        "Distancia coseno). \n"
      ],
      "metadata": {
        "id": "VEP1zaxXXk8K"
      }
    },
    {
      "cell_type": "code",
      "source": [
        "from math import sqrt\n",
        "def distancia_euclidiana(x,y):\n",
        "    \"\"\"\n",
        "    Medida de similitud entre vectores de caracteristicas,\n",
        "    usando la distancia euclidiana.\n",
        "\n",
        "    :param numpy.ndarray x: primer vector\n",
        "    :param numpy.ndarray y: segundo vector\n",
        "\n",
        "    :return: la distancia euclidiana entre los vectores\n",
        "    \"\"\"\n",
        "    suma = 0\n",
        "    for xi,yi in zip(x,y):\n",
        "        suma+= abs(xi-yi)**2\n",
        "    return sqrt(suma)"
      ],
      "metadata": {
        "id": "c4Tkpqd3EquA"
      },
      "execution_count": null,
      "outputs": []
    },
    {
      "cell_type": "markdown",
      "source": [
        "# **3) Ordenar resultados por relevancia**\n",
        "Desarrolle un esquema de comparación para cada imagen de img_query que dé como resultado un conjunto\n",
        "de valores de similitud entre una imagen de consulta y las imágenes almacenadas en img_database. \n",
        "\n"
      ],
      "metadata": {
        "id": "5xhg_S0IXuME"
      }
    },
    {
      "cell_type": "code",
      "source": [
        "query_img = ?\n",
        "\n",
        "for i in range(len(dataFrame)): \n",
        "    print(dataFrame['Name'][i],dataFrame['Feature vector'][i])\n",
        "    break\n",
        "\n"
      ],
      "metadata": {
        "id": "djlaj7RVEqv7"
      },
      "execution_count": null,
      "outputs": []
    },
    {
      "cell_type": "code",
      "source": [
        ""
      ],
      "metadata": {
        "id": "b4BS7PsdEqz8"
      },
      "execution_count": null,
      "outputs": []
    },
    {
      "cell_type": "code",
      "source": [
        ""
      ],
      "metadata": {
        "id": "lX547V9IEq1r"
      },
      "execution_count": null,
      "outputs": []
    },
    {
      "cell_type": "code",
      "source": [
        ""
      ],
      "metadata": {
        "id": "Isfj2QMDEq3z"
      },
      "execution_count": null,
      "outputs": []
    }
  ]
}